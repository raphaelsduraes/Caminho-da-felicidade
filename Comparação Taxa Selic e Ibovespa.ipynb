{
 "cells": [
  {
   "cell_type": "code",
   "execution_count": null,
   "metadata": {},
   "outputs": [],
   "source": [
    "import urllib.request\n",
    "import pandas as pd\n",
    "import matplotlib.pyplot as plt\n",
    "import numpy as np\n",
    "from pandas_datareader import data as wb\n",
    "from datetime import datetime\n",
    "#considerem a sigla \"rd\" como retorno diário"
   ]
  },
  {
   "cell_type": "code",
   "execution_count": 71,
   "metadata": {},
   "outputs": [],
   "source": [
    "IBOV = wb.DataReader('^BVSP', data_source='yahoo', start='2009-1-1')#Cotação diária do Ibovesva desde 2009"
   ]
  },
  {
   "cell_type": "code",
   "execution_count": 93,
   "metadata": {},
   "outputs": [],
   "source": [
    "import quandl \n",
    "\"\"\"Um site que organiza dados econômicos disponibiliza gratuitamente algumas bases de dados\n",
    "Para baixar a biblioteca olhe na documentação https://docs.quandl.com/\n",
    "O comando para baixar esses dados usando a biblioteca deles é quandl.get\n",
    "\"\"\"\n",
    "CDI_diario= quandl.get(\"BCB/12\", authtoken=\"wHnVchHSPwZYMsXTPAUm\",start_date=\"2009-1-1\")# % diária\n",
    "SELIC_diaria= quandl.get(\"BCB/11\", authtoken=\"wHnVchHSPwZYMsXTPAUm\",start_date=\"2009-1-1\")# %diária\n",
    "dolar_compra=quandl.get(\"BCB/10813\", authtoken=\"wHnVchHSPwZYMsXTPAUm\",start_date=\"2009-1-1\")# Preço diário"
   ]
  },
  {
   "cell_type": "code",
   "execution_count": 94,
   "metadata": {},
   "outputs": [
    {
     "data": {
      "text/html": [
       "<div>\n",
       "<style scoped>\n",
       "    .dataframe tbody tr th:only-of-type {\n",
       "        vertical-align: middle;\n",
       "    }\n",
       "\n",
       "    .dataframe tbody tr th {\n",
       "        vertical-align: top;\n",
       "    }\n",
       "\n",
       "    .dataframe thead th {\n",
       "        text-align: right;\n",
       "    }\n",
       "</style>\n",
       "<table border=\"1\" class=\"dataframe\">\n",
       "  <thead>\n",
       "    <tr style=\"text-align: right;\">\n",
       "      <th></th>\n",
       "      <th>High</th>\n",
       "      <th>Low</th>\n",
       "      <th>Open</th>\n",
       "      <th>Close</th>\n",
       "      <th>Volume</th>\n",
       "      <th>Adj Close</th>\n",
       "      <th>rd_ibov</th>\n",
       "    </tr>\n",
       "    <tr>\n",
       "      <th>Date</th>\n",
       "      <th></th>\n",
       "      <th></th>\n",
       "      <th></th>\n",
       "      <th></th>\n",
       "      <th></th>\n",
       "      <th></th>\n",
       "      <th></th>\n",
       "    </tr>\n",
       "  </thead>\n",
       "  <tbody>\n",
       "    <tr>\n",
       "      <th>2009-01-02</th>\n",
       "      <td>40265.0</td>\n",
       "      <td>37550.0</td>\n",
       "      <td>37550.0</td>\n",
       "      <td>40244.0</td>\n",
       "      <td>1055200.0</td>\n",
       "      <td>40244.0</td>\n",
       "      <td>NaN</td>\n",
       "    </tr>\n",
       "    <tr>\n",
       "      <th>2009-01-05</th>\n",
       "      <td>41889.0</td>\n",
       "      <td>39526.0</td>\n",
       "      <td>40243.0</td>\n",
       "      <td>41519.0</td>\n",
       "      <td>1909200.0</td>\n",
       "      <td>41519.0</td>\n",
       "      <td>0.031682</td>\n",
       "    </tr>\n",
       "    <tr>\n",
       "      <th>2009-01-06</th>\n",
       "      <td>42363.0</td>\n",
       "      <td>41520.0</td>\n",
       "      <td>41520.0</td>\n",
       "      <td>42312.0</td>\n",
       "      <td>1791000.0</td>\n",
       "      <td>42312.0</td>\n",
       "      <td>0.019100</td>\n",
       "    </tr>\n",
       "    <tr>\n",
       "      <th>2009-01-07</th>\n",
       "      <td>42308.0</td>\n",
       "      <td>40563.0</td>\n",
       "      <td>42308.0</td>\n",
       "      <td>40820.0</td>\n",
       "      <td>1383600.0</td>\n",
       "      <td>40820.0</td>\n",
       "      <td>-0.035262</td>\n",
       "    </tr>\n",
       "    <tr>\n",
       "      <th>2009-01-08</th>\n",
       "      <td>41991.0</td>\n",
       "      <td>40251.0</td>\n",
       "      <td>40819.0</td>\n",
       "      <td>41991.0</td>\n",
       "      <td>1556000.0</td>\n",
       "      <td>41991.0</td>\n",
       "      <td>0.028687</td>\n",
       "    </tr>\n",
       "  </tbody>\n",
       "</table>\n",
       "</div>"
      ],
      "text/plain": [
       "               High      Low     Open    Close     Volume  Adj Close   rd_ibov\n",
       "Date                                                                          \n",
       "2009-01-02  40265.0  37550.0  37550.0  40244.0  1055200.0    40244.0       NaN\n",
       "2009-01-05  41889.0  39526.0  40243.0  41519.0  1909200.0    41519.0  0.031682\n",
       "2009-01-06  42363.0  41520.0  41520.0  42312.0  1791000.0    42312.0  0.019100\n",
       "2009-01-07  42308.0  40563.0  42308.0  40820.0  1383600.0    40820.0 -0.035262\n",
       "2009-01-08  41991.0  40251.0  40819.0  41991.0  1556000.0    41991.0  0.028687"
      ]
     },
     "execution_count": 94,
     "metadata": {},
     "output_type": "execute_result"
    }
   ],
   "source": [
    "IBOV.head()"
   ]
  },
  {
   "cell_type": "code",
   "execution_count": 95,
   "metadata": {},
   "outputs": [
    {
     "data": {
      "text/html": [
       "<div>\n",
       "<style scoped>\n",
       "    .dataframe tbody tr th:only-of-type {\n",
       "        vertical-align: middle;\n",
       "    }\n",
       "\n",
       "    .dataframe tbody tr th {\n",
       "        vertical-align: top;\n",
       "    }\n",
       "\n",
       "    .dataframe thead th {\n",
       "        text-align: right;\n",
       "    }\n",
       "</style>\n",
       "<table border=\"1\" class=\"dataframe\">\n",
       "  <thead>\n",
       "    <tr style=\"text-align: right;\">\n",
       "      <th></th>\n",
       "      <th>rd_CDI</th>\n",
       "    </tr>\n",
       "    <tr>\n",
       "      <th>Date</th>\n",
       "      <th></th>\n",
       "    </tr>\n",
       "  </thead>\n",
       "  <tbody>\n",
       "    <tr>\n",
       "      <th>2009-01-02</th>\n",
       "      <td>0.050683</td>\n",
       "    </tr>\n",
       "    <tr>\n",
       "      <th>2009-01-05</th>\n",
       "      <td>0.050578</td>\n",
       "    </tr>\n",
       "    <tr>\n",
       "      <th>2009-01-06</th>\n",
       "      <td>0.050613</td>\n",
       "    </tr>\n",
       "    <tr>\n",
       "      <th>2009-01-07</th>\n",
       "      <td>0.050648</td>\n",
       "    </tr>\n",
       "    <tr>\n",
       "      <th>2009-01-08</th>\n",
       "      <td>0.050613</td>\n",
       "    </tr>\n",
       "  </tbody>\n",
       "</table>\n",
       "</div>"
      ],
      "text/plain": [
       "              rd_CDI\n",
       "Date                \n",
       "2009-01-02  0.050683\n",
       "2009-01-05  0.050578\n",
       "2009-01-06  0.050613\n",
       "2009-01-07  0.050648\n",
       "2009-01-08  0.050613"
      ]
     },
     "execution_count": 95,
     "metadata": {},
     "output_type": "execute_result"
    }
   ],
   "source": [
    "CDI_diario.set_axis(['rd_CDI'],axis='columns',inplace=True)\n",
    "CDI_diario.head()"
   ]
  },
  {
   "cell_type": "code",
   "execution_count": 96,
   "metadata": {},
   "outputs": [
    {
     "data": {
      "text/html": [
       "<div>\n",
       "<style scoped>\n",
       "    .dataframe tbody tr th:only-of-type {\n",
       "        vertical-align: middle;\n",
       "    }\n",
       "\n",
       "    .dataframe tbody tr th {\n",
       "        vertical-align: top;\n",
       "    }\n",
       "\n",
       "    .dataframe thead th {\n",
       "        text-align: right;\n",
       "    }\n",
       "</style>\n",
       "<table border=\"1\" class=\"dataframe\">\n",
       "  <thead>\n",
       "    <tr style=\"text-align: right;\">\n",
       "      <th></th>\n",
       "      <th>rd_SELIC</th>\n",
       "    </tr>\n",
       "    <tr>\n",
       "      <th>Date</th>\n",
       "      <th></th>\n",
       "    </tr>\n",
       "  </thead>\n",
       "  <tbody>\n",
       "    <tr>\n",
       "      <th>2009-01-02</th>\n",
       "      <td>0.050858</td>\n",
       "    </tr>\n",
       "    <tr>\n",
       "      <th>2009-01-05</th>\n",
       "      <td>0.050823</td>\n",
       "    </tr>\n",
       "    <tr>\n",
       "      <th>2009-01-06</th>\n",
       "      <td>0.050823</td>\n",
       "    </tr>\n",
       "    <tr>\n",
       "      <th>2009-01-07</th>\n",
       "      <td>0.050823</td>\n",
       "    </tr>\n",
       "    <tr>\n",
       "      <th>2009-01-08</th>\n",
       "      <td>0.050823</td>\n",
       "    </tr>\n",
       "  </tbody>\n",
       "</table>\n",
       "</div>"
      ],
      "text/plain": [
       "            rd_SELIC\n",
       "Date                \n",
       "2009-01-02  0.050858\n",
       "2009-01-05  0.050823\n",
       "2009-01-06  0.050823\n",
       "2009-01-07  0.050823\n",
       "2009-01-08  0.050823"
      ]
     },
     "execution_count": 96,
     "metadata": {},
     "output_type": "execute_result"
    }
   ],
   "source": [
    "SELIC_diaria.set_axis(['rd_SELIC'],axis='columns',inplace=True)\n",
    "SELIC_diaria.head()"
   ]
  },
  {
   "cell_type": "code",
   "execution_count": 97,
   "metadata": {},
   "outputs": [
    {
     "data": {
      "text/html": [
       "<div>\n",
       "<style scoped>\n",
       "    .dataframe tbody tr th:only-of-type {\n",
       "        vertical-align: middle;\n",
       "    }\n",
       "\n",
       "    .dataframe tbody tr th {\n",
       "        vertical-align: top;\n",
       "    }\n",
       "\n",
       "    .dataframe thead th {\n",
       "        text-align: right;\n",
       "    }\n",
       "</style>\n",
       "<table border=\"1\" class=\"dataframe\">\n",
       "  <thead>\n",
       "    <tr style=\"text-align: right;\">\n",
       "      <th></th>\n",
       "      <th>rd_dolar</th>\n",
       "    </tr>\n",
       "    <tr>\n",
       "      <th>Date</th>\n",
       "      <th></th>\n",
       "    </tr>\n",
       "  </thead>\n",
       "  <tbody>\n",
       "    <tr>\n",
       "      <th>2009-01-02</th>\n",
       "      <td>2.3290</td>\n",
       "    </tr>\n",
       "    <tr>\n",
       "      <th>2009-01-05</th>\n",
       "      <td>2.2772</td>\n",
       "    </tr>\n",
       "    <tr>\n",
       "      <th>2009-01-06</th>\n",
       "      <td>2.1881</td>\n",
       "    </tr>\n",
       "    <tr>\n",
       "      <th>2009-01-07</th>\n",
       "      <td>2.2166</td>\n",
       "    </tr>\n",
       "    <tr>\n",
       "      <th>2009-01-08</th>\n",
       "      <td>2.2675</td>\n",
       "    </tr>\n",
       "  </tbody>\n",
       "</table>\n",
       "</div>"
      ],
      "text/plain": [
       "            rd_dolar\n",
       "Date                \n",
       "2009-01-02    2.3290\n",
       "2009-01-05    2.2772\n",
       "2009-01-06    2.1881\n",
       "2009-01-07    2.2166\n",
       "2009-01-08    2.2675"
      ]
     },
     "execution_count": 97,
     "metadata": {},
     "output_type": "execute_result"
    }
   ],
   "source": [
    "dolar_compra.set_axis(['rd_dolar'],axis='columns',inplace=True)\n",
    "dolar_compra.head()"
   ]
  },
  {
   "cell_type": "markdown",
   "metadata": {},
   "source": [
    "Para o calculo do portfolio de maximo retorno e minimo risco, precisamos usar o retorno diário em %\n",
    "devemos, transfomar o preço diário do dólar e preço ajustado do ibovespa,usando a seguinte equação:\n"
   ]
  },
  {
   "cell_type": "markdown",
   "metadata": {},
   "source": [
    "# Retorno diário = ((preço atual)/(preço  do dia anterior))-1"
   ]
  },
  {
   "cell_type": "markdown",
   "metadata": {},
   "source": [
    "# $$\n",
    "Retorno diário = \\frac{Preço atual}{Preço do dia anterior} - 1\n",
    "$$"
   ]
  },
  {
   "cell_type": "code",
   "execution_count": 122,
   "metadata": {},
   "outputs": [],
   "source": [
    "IBOVESPA=pd.DataFrame()"
   ]
  },
  {
   "cell_type": "code",
   "execution_count": 123,
   "metadata": {},
   "outputs": [],
   "source": [
    "IBOVESPA['rd_ibov']=(IBOV['Adj Close']/IBOV['Adj Close'].shift(1))-1#inserindo uma coluna com o retorno diário\n",
    "dolar_compra['rd_dolar']=(dolar_compra['rd_dolar']/dolar_compra['rd_dolar'].shift(1))-1 #\n"
   ]
  },
  {
   "cell_type": "markdown",
   "metadata": {},
   "source": [
    "Por questões matemáticas utilizaremos o conceito de log retorno para os cálculos de correlação e covariância dos ativos."
   ]
  },
  {
   "cell_type": "code",
   "execution_count": null,
   "metadata": {},
   "outputs": [],
   "source": [
    "df.loc[:, ['A', 'B']] df.drop(['B', 'C'], axis=1)"
   ]
  },
  {
   "cell_type": "code",
   "execution_count": 109,
   "metadata": {},
   "outputs": [],
   "source": [
    "ativos=pd.DataFrame()"
   ]
  },
  {
   "cell_type": "code",
   "execution_count": 131,
   "metadata": {},
   "outputs": [
    {
     "data": {
      "text/html": [
       "<div>\n",
       "<style scoped>\n",
       "    .dataframe tbody tr th:only-of-type {\n",
       "        vertical-align: middle;\n",
       "    }\n",
       "\n",
       "    .dataframe tbody tr th {\n",
       "        vertical-align: top;\n",
       "    }\n",
       "\n",
       "    .dataframe thead th {\n",
       "        text-align: right;\n",
       "    }\n",
       "</style>\n",
       "<table border=\"1\" class=\"dataframe\">\n",
       "  <thead>\n",
       "    <tr style=\"text-align: right;\">\n",
       "      <th></th>\n",
       "      <th>rd_dolar</th>\n",
       "      <th>rd_ibov</th>\n",
       "      <th>rd_SELIC</th>\n",
       "    </tr>\n",
       "    <tr>\n",
       "      <th>Date</th>\n",
       "      <th></th>\n",
       "      <th></th>\n",
       "      <th></th>\n",
       "    </tr>\n",
       "  </thead>\n",
       "  <tbody>\n",
       "    <tr>\n",
       "      <th>2009-01-06</th>\n",
       "      <td>0.759204</td>\n",
       "      <td>0.019100</td>\n",
       "      <td>0.050823</td>\n",
       "    </tr>\n",
       "    <tr>\n",
       "      <th>2009-01-07</th>\n",
       "      <td>-1.332890</td>\n",
       "      <td>-0.035262</td>\n",
       "      <td>0.050823</td>\n",
       "    </tr>\n",
       "    <tr>\n",
       "      <th>2009-01-08</th>\n",
       "      <td>0.763002</td>\n",
       "      <td>0.028687</td>\n",
       "      <td>0.050823</td>\n",
       "    </tr>\n",
       "    <tr>\n",
       "      <th>2009-01-09</th>\n",
       "      <td>-0.646622</td>\n",
       "      <td>-0.009716</td>\n",
       "      <td>0.050823</td>\n",
       "    </tr>\n",
       "    <tr>\n",
       "      <th>2009-01-12</th>\n",
       "      <td>-0.450114</td>\n",
       "      <td>-0.052425</td>\n",
       "      <td>0.050823</td>\n",
       "    </tr>\n",
       "  </tbody>\n",
       "</table>\n",
       "</div>"
      ],
      "text/plain": [
       "            rd_dolar   rd_ibov  rd_SELIC\n",
       "Date                                    \n",
       "2009-01-06  0.759204  0.019100  0.050823\n",
       "2009-01-07 -1.332890 -0.035262  0.050823\n",
       "2009-01-08  0.763002  0.028687  0.050823\n",
       "2009-01-09 -0.646622 -0.009716  0.050823\n",
       "2009-01-12 -0.450114 -0.052425  0.050823"
      ]
     },
     "execution_count": 131,
     "metadata": {},
     "output_type": "execute_result"
    }
   ],
   "source": [
    "ativos=dolar_compra.merge(IBOVESPA,on='Date').merge(SELIC_diaria,on='Date')\n",
    "ativos.dropna(inplace=True)#comando para excluir onde tem-se elementos vazio, no nosso caso temos só as 2 primeiras linhas\n",
    "ativos.head()"
   ]
  },
  {
   "cell_type": "code",
   "execution_count": 143,
   "metadata": {},
   "outputs": [
    {
     "data": {
      "text/plain": [
       "<matplotlib.axes._subplots.AxesSubplot at 0x7ff3c840b9b0>"
      ]
     },
     "execution_count": 143,
     "metadata": {},
     "output_type": "execute_result"
    },
    {
     "data": {
      "image/png": "[encoded data removed]",
      "text/plain": [
       "<Figure size 1080x432 with 1 Axes>"
      ]
     },
     "metadata": {
      "needs_background": "light"
     },
     "output_type": "display_data"
    }
   ],
   "source": [
    "ativos.iloc[2019].plot(figsize=(15, 6))"
   ]
  },
  {
   "cell_type": "code",
   "execution_count": 144,
   "metadata": {},
   "outputs": [
    {
     "data": {
      "text/html": [
       "<div>\n",
       "<style scoped>\n",
       "    .dataframe tbody tr th:only-of-type {\n",
       "        vertical-align: middle;\n",
       "    }\n",
       "\n",
       "    .dataframe tbody tr th {\n",
       "        vertical-align: top;\n",
       "    }\n",
       "\n",
       "    .dataframe thead th {\n",
       "        text-align: right;\n",
       "    }\n",
       "</style>\n",
       "<table border=\"1\" class=\"dataframe\">\n",
       "  <thead>\n",
       "    <tr style=\"text-align: right;\">\n",
       "      <th></th>\n",
       "      <th>rd_dolar</th>\n",
       "      <th>rd_ibov</th>\n",
       "      <th>rd_SELIC</th>\n",
       "    </tr>\n",
       "  </thead>\n",
       "  <tbody>\n",
       "    <tr>\n",
       "      <th>rd_dolar</th>\n",
       "      <td>1.000000</td>\n",
       "      <td>-0.021388</td>\n",
       "      <td>-0.011148</td>\n",
       "    </tr>\n",
       "    <tr>\n",
       "      <th>rd_ibov</th>\n",
       "      <td>-0.021388</td>\n",
       "      <td>1.000000</td>\n",
       "      <td>-0.002487</td>\n",
       "    </tr>\n",
       "    <tr>\n",
       "      <th>rd_SELIC</th>\n",
       "      <td>-0.011148</td>\n",
       "      <td>-0.002487</td>\n",
       "      <td>1.000000</td>\n",
       "    </tr>\n",
       "  </tbody>\n",
       "</table>\n",
       "</div>"
      ],
      "text/plain": [
       "          rd_dolar   rd_ibov  rd_SELIC\n",
       "rd_dolar  1.000000 -0.021388 -0.011148\n",
       "rd_ibov  -0.021388  1.000000 -0.002487\n",
       "rd_SELIC -0.011148 -0.002487  1.000000"
      ]
     },
     "execution_count": 144,
     "metadata": {},
     "output_type": "execute_result"
    }
   ],
   "source": [
    "ativos.corr()"
   ]
  },
  {
   "cell_type": "code",
   "execution_count": 138,
   "metadata": {},
   "outputs": [
    {
     "data": {
      "text/plain": [
       "rd_dolar         NaN\n",
       "rd_ibov     0.000442\n",
       "rd_SELIC    0.038245\n",
       "dtype: float64"
      ]
     },
     "execution_count": 138,
     "metadata": {},
     "output_type": "execute_result"
    }
   ],
   "source": [
    "ativos.mean()"
   ]
  },
  {
   "cell_type": "code",
   "execution_count": 41,
   "metadata": {},
   "outputs": [
    {
     "data": {
      "text/html": [
       "<div>\n",
       "<style scoped>\n",
       "    .dataframe tbody tr th:only-of-type {\n",
       "        vertical-align: middle;\n",
       "    }\n",
       "\n",
       "    .dataframe tbody tr th {\n",
       "        vertical-align: top;\n",
       "    }\n",
       "\n",
       "    .dataframe thead th {\n",
       "        text-align: right;\n",
       "    }\n",
       "</style>\n",
       "<table border=\"1\" class=\"dataframe\">\n",
       "  <thead>\n",
       "    <tr style=\"text-align: right;\">\n",
       "      <th></th>\n",
       "      <th>High</th>\n",
       "      <th>Low</th>\n",
       "      <th>Open</th>\n",
       "      <th>Close</th>\n",
       "      <th>Volume</th>\n",
       "      <th>Adj Close</th>\n",
       "      <th>rd_IBOV</th>\n",
       "    </tr>\n",
       "    <tr>\n",
       "      <th>Date</th>\n",
       "      <th></th>\n",
       "      <th></th>\n",
       "      <th></th>\n",
       "      <th></th>\n",
       "      <th></th>\n",
       "      <th></th>\n",
       "      <th></th>\n",
       "    </tr>\n",
       "  </thead>\n",
       "  <tbody>\n",
       "    <tr>\n",
       "      <th>2009-01-05</th>\n",
       "      <td>41889.0</td>\n",
       "      <td>39526.0</td>\n",
       "      <td>40243.0</td>\n",
       "      <td>41519.0</td>\n",
       "      <td>1909200.0</td>\n",
       "      <td>41519.0</td>\n",
       "      <td>NaN</td>\n",
       "    </tr>\n",
       "    <tr>\n",
       "      <th>2009-01-06</th>\n",
       "      <td>42363.0</td>\n",
       "      <td>41520.0</td>\n",
       "      <td>41520.0</td>\n",
       "      <td>42312.0</td>\n",
       "      <td>1791000.0</td>\n",
       "      <td>42312.0</td>\n",
       "      <td>0.019100</td>\n",
       "    </tr>\n",
       "    <tr>\n",
       "      <th>2009-01-07</th>\n",
       "      <td>42308.0</td>\n",
       "      <td>40563.0</td>\n",
       "      <td>42308.0</td>\n",
       "      <td>40820.0</td>\n",
       "      <td>1383600.0</td>\n",
       "      <td>40820.0</td>\n",
       "      <td>-0.035262</td>\n",
       "    </tr>\n",
       "    <tr>\n",
       "      <th>2009-01-08</th>\n",
       "      <td>41991.0</td>\n",
       "      <td>40251.0</td>\n",
       "      <td>40819.0</td>\n",
       "      <td>41991.0</td>\n",
       "      <td>1556000.0</td>\n",
       "      <td>41991.0</td>\n",
       "      <td>0.028687</td>\n",
       "    </tr>\n",
       "    <tr>\n",
       "      <th>2009-01-09</th>\n",
       "      <td>42525.0</td>\n",
       "      <td>41181.0</td>\n",
       "      <td>41992.0</td>\n",
       "      <td>41583.0</td>\n",
       "      <td>1573400.0</td>\n",
       "      <td>41583.0</td>\n",
       "      <td>-0.009716</td>\n",
       "    </tr>\n",
       "  </tbody>\n",
       "</table>\n",
       "</div>"
      ],
      "text/plain": [
       "               High      Low     Open    Close     Volume  Adj Close   rd_IBOV\n",
       "Date                                                                          \n",
       "2009-01-05  41889.0  39526.0  40243.0  41519.0  1909200.0    41519.0       NaN\n",
       "2009-01-06  42363.0  41520.0  41520.0  42312.0  1791000.0    42312.0  0.019100\n",
       "2009-01-07  42308.0  40563.0  42308.0  40820.0  1383600.0    40820.0 -0.035262\n",
       "2009-01-08  41991.0  40251.0  40819.0  41991.0  1556000.0    41991.0  0.028687\n",
       "2009-01-09  42525.0  41181.0  41992.0  41583.0  1573400.0    41583.0 -0.009716"
      ]
     },
     "execution_count": 41,
     "metadata": {},
     "output_type": "execute_result"
    }
   ],
   "source": [
    "IBOV.head()"
   ]
  },
  {
   "cell_type": "code",
   "execution_count": 7,
   "metadata": {},
   "outputs": [],
   "source": [
    "IBOV['data'] = pd.to_datetime(IBOV.data)\n",
    "IBOV['data'] = IBOV['data'].dt.strftime('%d/%m/%Y')#fazendo as datas ficarem no formato certo pra juntar as 2 bases de dados\n"
   ]
  },
  {
   "cell_type": "code",
   "execution_count": 8,
   "metadata": {},
   "outputs": [
    {
     "data": {
      "text/html": [
       "<div>\n",
       "<style scoped>\n",
       "    .dataframe tbody tr th:only-of-type {\n",
       "        vertical-align: middle;\n",
       "    }\n",
       "\n",
       "    .dataframe tbody tr th {\n",
       "        vertical-align: top;\n",
       "    }\n",
       "\n",
       "    .dataframe thead th {\n",
       "        text-align: right;\n",
       "    }\n",
       "</style>\n",
       "<table border=\"1\" class=\"dataframe\">\n",
       "  <thead>\n",
       "    <tr style=\"text-align: right;\">\n",
       "      <th></th>\n",
       "      <th>High</th>\n",
       "      <th>Low</th>\n",
       "      <th>Open</th>\n",
       "      <th>Close</th>\n",
       "      <th>Volume</th>\n",
       "      <th>Adj Close</th>\n",
       "      <th>data</th>\n",
       "    </tr>\n",
       "    <tr>\n",
       "      <th>Date</th>\n",
       "      <th></th>\n",
       "      <th></th>\n",
       "      <th></th>\n",
       "      <th></th>\n",
       "      <th></th>\n",
       "      <th></th>\n",
       "      <th></th>\n",
       "    </tr>\n",
       "  </thead>\n",
       "  <tbody>\n",
       "    <tr>\n",
       "      <th>2000-01-03</th>\n",
       "      <td>17408.0</td>\n",
       "      <td>16719.0</td>\n",
       "      <td>17098.0</td>\n",
       "      <td>16930.0</td>\n",
       "      <td>0.0</td>\n",
       "      <td>16930.0</td>\n",
       "      <td>03/01/2000</td>\n",
       "    </tr>\n",
       "    <tr>\n",
       "      <th>2000-01-04</th>\n",
       "      <td>16908.0</td>\n",
       "      <td>15851.0</td>\n",
       "      <td>16908.0</td>\n",
       "      <td>15851.0</td>\n",
       "      <td>0.0</td>\n",
       "      <td>15851.0</td>\n",
       "      <td>04/01/2000</td>\n",
       "    </tr>\n",
       "    <tr>\n",
       "      <th>2000-01-05</th>\n",
       "      <td>16302.0</td>\n",
       "      <td>15350.0</td>\n",
       "      <td>15871.0</td>\n",
       "      <td>16245.0</td>\n",
       "      <td>0.0</td>\n",
       "      <td>16245.0</td>\n",
       "      <td>05/01/2000</td>\n",
       "    </tr>\n",
       "    <tr>\n",
       "      <th>2000-01-06</th>\n",
       "      <td>16499.0</td>\n",
       "      <td>15977.0</td>\n",
       "      <td>16237.0</td>\n",
       "      <td>16107.0</td>\n",
       "      <td>0.0</td>\n",
       "      <td>16107.0</td>\n",
       "      <td>06/01/2000</td>\n",
       "    </tr>\n",
       "    <tr>\n",
       "      <th>2000-01-07</th>\n",
       "      <td>16449.0</td>\n",
       "      <td>16125.0</td>\n",
       "      <td>16125.0</td>\n",
       "      <td>16309.0</td>\n",
       "      <td>0.0</td>\n",
       "      <td>16309.0</td>\n",
       "      <td>07/01/2000</td>\n",
       "    </tr>\n",
       "  </tbody>\n",
       "</table>\n",
       "</div>"
      ],
      "text/plain": [
       "               High      Low     Open    Close  Volume  Adj Close        data\n",
       "Date                                                                         \n",
       "2000-01-03  17408.0  16719.0  17098.0  16930.0     0.0    16930.0  03/01/2000\n",
       "2000-01-04  16908.0  15851.0  16908.0  15851.0     0.0    15851.0  04/01/2000\n",
       "2000-01-05  16302.0  15350.0  15871.0  16245.0     0.0    16245.0  05/01/2000\n",
       "2000-01-06  16499.0  15977.0  16237.0  16107.0     0.0    16107.0  06/01/2000\n",
       "2000-01-07  16449.0  16125.0  16125.0  16309.0     0.0    16309.0  07/01/2000"
      ]
     },
     "execution_count": 8,
     "metadata": {},
     "output_type": "execute_result"
    }
   ],
   "source": [
    "IBOV.head()"
   ]
  },
  {
   "cell_type": "code",
   "execution_count": 9,
   "metadata": {},
   "outputs": [
    {
     "data": {
      "text/html": [
       "<div>\n",
       "<style scoped>\n",
       "    .dataframe tbody tr th:only-of-type {\n",
       "        vertical-align: middle;\n",
       "    }\n",
       "\n",
       "    .dataframe tbody tr th {\n",
       "        vertical-align: top;\n",
       "    }\n",
       "\n",
       "    .dataframe thead th {\n",
       "        text-align: right;\n",
       "    }\n",
       "</style>\n",
       "<table border=\"1\" class=\"dataframe\">\n",
       "  <thead>\n",
       "    <tr style=\"text-align: right;\">\n",
       "      <th></th>\n",
       "      <th>High</th>\n",
       "      <th>Low</th>\n",
       "      <th>Open</th>\n",
       "      <th>Close</th>\n",
       "      <th>Volume</th>\n",
       "      <th>Adj Close</th>\n",
       "      <th>data</th>\n",
       "    </tr>\n",
       "    <tr>\n",
       "      <th>data</th>\n",
       "      <th></th>\n",
       "      <th></th>\n",
       "      <th></th>\n",
       "      <th></th>\n",
       "      <th></th>\n",
       "      <th></th>\n",
       "      <th></th>\n",
       "    </tr>\n",
       "  </thead>\n",
       "  <tbody>\n",
       "    <tr>\n",
       "      <th>03/01/2000</th>\n",
       "      <td>17408.0</td>\n",
       "      <td>16719.0</td>\n",
       "      <td>17098.0</td>\n",
       "      <td>16930.0</td>\n",
       "      <td>0.0</td>\n",
       "      <td>16930.0</td>\n",
       "      <td>03/01/2000</td>\n",
       "    </tr>\n",
       "    <tr>\n",
       "      <th>04/01/2000</th>\n",
       "      <td>16908.0</td>\n",
       "      <td>15851.0</td>\n",
       "      <td>16908.0</td>\n",
       "      <td>15851.0</td>\n",
       "      <td>0.0</td>\n",
       "      <td>15851.0</td>\n",
       "      <td>04/01/2000</td>\n",
       "    </tr>\n",
       "    <tr>\n",
       "      <th>05/01/2000</th>\n",
       "      <td>16302.0</td>\n",
       "      <td>15350.0</td>\n",
       "      <td>15871.0</td>\n",
       "      <td>16245.0</td>\n",
       "      <td>0.0</td>\n",
       "      <td>16245.0</td>\n",
       "      <td>05/01/2000</td>\n",
       "    </tr>\n",
       "    <tr>\n",
       "      <th>06/01/2000</th>\n",
       "      <td>16499.0</td>\n",
       "      <td>15977.0</td>\n",
       "      <td>16237.0</td>\n",
       "      <td>16107.0</td>\n",
       "      <td>0.0</td>\n",
       "      <td>16107.0</td>\n",
       "      <td>06/01/2000</td>\n",
       "    </tr>\n",
       "    <tr>\n",
       "      <th>07/01/2000</th>\n",
       "      <td>16449.0</td>\n",
       "      <td>16125.0</td>\n",
       "      <td>16125.0</td>\n",
       "      <td>16309.0</td>\n",
       "      <td>0.0</td>\n",
       "      <td>16309.0</td>\n",
       "      <td>07/01/2000</td>\n",
       "    </tr>\n",
       "  </tbody>\n",
       "</table>\n",
       "</div>"
      ],
      "text/plain": [
       "               High      Low     Open    Close  Volume  Adj Close        data\n",
       "data                                                                         \n",
       "03/01/2000  17408.0  16719.0  17098.0  16930.0     0.0    16930.0  03/01/2000\n",
       "04/01/2000  16908.0  15851.0  16908.0  15851.0     0.0    15851.0  04/01/2000\n",
       "05/01/2000  16302.0  15350.0  15871.0  16245.0     0.0    16245.0  05/01/2000\n",
       "06/01/2000  16499.0  15977.0  16237.0  16107.0     0.0    16107.0  06/01/2000\n",
       "07/01/2000  16449.0  16125.0  16125.0  16309.0     0.0    16309.0  07/01/2000"
      ]
     },
     "execution_count": 9,
     "metadata": {},
     "output_type": "execute_result"
    }
   ],
   "source": [
    "IBOV.set_index(IBOV['data']).head()"
   ]
  },
  {
   "cell_type": "code",
   "execution_count": 10,
   "metadata": {},
   "outputs": [
    {
     "data": {
      "image/png": "[encoded data removed]",
      "text/plain": [
       "<Figure size 432x288 with 1 Axes>"
      ]
     },
     "metadata": {
      "needs_background": "light"
     },
     "output_type": "display_data"
    }
   ],
   "source": [
    "fig, ax = plt.subplots()\n",
    "ax.plot(IBOV['Adj Close'])\n",
    "plt.show()"
   ]
  },
  {
   "cell_type": "code",
   "execution_count": 11,
   "metadata": {},
   "outputs": [],
   "source": [
    "origem='https://dadosabertos.bcb.gov.br/dataset/1178-taxa-de-juros---selic-anualizada-base-252#'#endereço do link\n",
    "arquivo='juros_diarios_selic.csv'"
   ]
  },
  {
   "cell_type": "code",
   "execution_count": 12,
   "metadata": {},
   "outputs": [],
   "source": [
    "df_selic = pd.read_csv('selic_bcb_api.csv', encoding = \"utf-8\", delimiter=';', index_col=0)\n",
    "\n",
    "df_selic['valor'] = df_selic['valor'].str.replace(',', '.').astype(float)\n"
   ]
  },
  {
   "cell_type": "code",
   "execution_count": 13,
   "metadata": {},
   "outputs": [],
   "source": [
    "data_inicial = '03/01/2000'\n",
    "\n",
    "data_final = '01/08/2018'\n",
    "\n",
    "df_selic = df_selic.loc[data_inicial:data_final]"
   ]
  },
  {
   "cell_type": "code",
   "execution_count": 14,
   "metadata": {},
   "outputs": [
    {
     "data": {
      "text/html": [
       "<div>\n",
       "<style scoped>\n",
       "    .dataframe tbody tr th:only-of-type {\n",
       "        vertical-align: middle;\n",
       "    }\n",
       "\n",
       "    .dataframe tbody tr th {\n",
       "        vertical-align: top;\n",
       "    }\n",
       "\n",
       "    .dataframe thead th {\n",
       "        text-align: right;\n",
       "    }\n",
       "</style>\n",
       "<table border=\"1\" class=\"dataframe\">\n",
       "  <thead>\n",
       "    <tr style=\"text-align: right;\">\n",
       "      <th></th>\n",
       "      <th>valor</th>\n",
       "    </tr>\n",
       "    <tr>\n",
       "      <th>data</th>\n",
       "      <th></th>\n",
       "    </tr>\n",
       "  </thead>\n",
       "  <tbody>\n",
       "    <tr>\n",
       "      <th>03/01/2000</th>\n",
       "      <td>19.04</td>\n",
       "    </tr>\n",
       "    <tr>\n",
       "      <th>04/01/2000</th>\n",
       "      <td>19.04</td>\n",
       "    </tr>\n",
       "    <tr>\n",
       "      <th>05/01/2000</th>\n",
       "      <td>19.05</td>\n",
       "    </tr>\n",
       "    <tr>\n",
       "      <th>06/01/2000</th>\n",
       "      <td>19.07</td>\n",
       "    </tr>\n",
       "    <tr>\n",
       "      <th>07/01/2000</th>\n",
       "      <td>19.07</td>\n",
       "    </tr>\n",
       "  </tbody>\n",
       "</table>\n",
       "</div>"
      ],
      "text/plain": [
       "            valor\n",
       "data             \n",
       "03/01/2000  19.04\n",
       "04/01/2000  19.04\n",
       "05/01/2000  19.05\n",
       "06/01/2000  19.07\n",
       "07/01/2000  19.07"
      ]
     },
     "execution_count": 14,
     "metadata": {},
     "output_type": "execute_result"
    }
   ],
   "source": [
    "df_selic.head()"
   ]
  },
  {
   "cell_type": "code",
   "execution_count": 18,
   "metadata": {},
   "outputs": [
    {
     "data": {
      "image/png": "[encoded data removed]",
      "text/plain": [
       "<Figure size 432x288 with 1 Axes>"
      ]
     },
     "metadata": {
      "needs_background": "light"
     },
     "output_type": "display_data"
    }
   ],
   "source": [
    "df_selic['valor'].plot()\n",
    "plt.xlabel('Data')\n",
    "plt.ylabel('Selic')\n",
    "plt.show()"
   ]
  },
  {
   "cell_type": "code",
   "execution_count": 16,
   "metadata": {},
   "outputs": [],
   "source": [
    "df_selic['data']=df_selic.index #mudar o nome da coluna"
   ]
  },
  {
   "cell_type": "code",
   "execution_count": 17,
   "metadata": {},
   "outputs": [
    {
     "name": "stderr",
     "output_type": "stream",
     "text": [
      "/home/raphael/anaconda3/lib/python3.7/site-packages/IPython/core/interactiveshell.py:3267: FutureWarning: 'data' is both an index level and a column label.\n",
      "Defaulting to column, but this will raise an ambiguity error in a future version\n",
      "  exec(code_obj, self.user_global_ns, self.user_ns)\n"
     ]
    }
   ],
   "source": [
    "ibov_selic= pd.merge(df_selic,IBOV) # juntar as 2 bases"
   ]
  },
  {
   "cell_type": "code",
   "execution_count": 1,
   "metadata": {},
   "outputs": [
    {
     "ename": "NameError",
     "evalue": "name 'ibov_selic' is not defined",
     "output_type": "error",
     "traceback": [
      "\u001b[0;31m---------------------------------------------------------------------------\u001b[0m",
      "\u001b[0;31mNameError\u001b[0m                                 Traceback (most recent call last)",
      "\u001b[0;32m<ipython-input-1-7093f1afa46e>\u001b[0m in \u001b[0;36m<module>\u001b[0;34m\u001b[0m\n\u001b[0;32m----> 1\u001b[0;31m \u001b[0mibov_selic\u001b[0m\u001b[0;34m.\u001b[0m\u001b[0mset_index\u001b[0m\u001b[0;34m(\u001b[0m\u001b[0mibov_selic\u001b[0m\u001b[0;34m[\u001b[0m\u001b[0;34m'data'\u001b[0m\u001b[0;34m]\u001b[0m\u001b[0;34m)\u001b[0m\u001b[0;34m.\u001b[0m\u001b[0mhead\u001b[0m\u001b[0;34m(\u001b[0m\u001b[0;34m)\u001b[0m\u001b[0;31m# usando a coluna data como index\u001b[0m\u001b[0;34m\u001b[0m\u001b[0;34m\u001b[0m\u001b[0m\n\u001b[0m",
      "\u001b[0;31mNameError\u001b[0m: name 'ibov_selic' is not defined"
     ]
    }
   ],
   "source": [
    "ibov_selic.set_index(ibov_selic['data']).head()# usando a coluna data como index"
   ]
  },
  {
   "cell_type": "code",
   "execution_count": 250,
   "metadata": {},
   "outputs": [
    {
     "data": {
      "image/png": "[encoded data removed]",
      "text/plain": [
       "<Figure size 432x288 with 2 Axes>"
      ]
     },
     "metadata": {
      "needs_background": "light"
     },
     "output_type": "display_data"
    }
   ],
   "source": [
    "fig, ax1 = plt.subplots()\n",
    "t =  np.arange(0.0, 2.0, 0.01)\n",
    "x=ibov_selic['data']\n",
    "s1 = np.exp(t)\n",
    "ax1.plot(x,ibov_selic['valor'])\n",
    "ax1.set_xlabel('Data')\n",
    "# Make the y-axis label, ticks and tick labels match the line color.\n",
    "ax1.set_ylabel('Selic', color='b')\n",
    "ax1.tick_params('y', colors='b')\n",
    "\n",
    "ax2 = ax1.twinx()\n",
    "s2 = ibov_selic['Adj Close']\n",
    "ax2.plot(x,s2,color='r')\n",
    "ax2.set_ylabel('Ibovespa', color='r')\n",
    "ax2.tick_params('y', colors='r')\n",
    "\n",
    "fig.tight_layout()\n",
    "plt.show()"
   ]
  },
  {
   "cell_type": "code",
   "execution_count": 21,
   "metadata": {},
   "outputs": [
    {
     "data": {
      "text/html": [
       "<div>\n",
       "<style scoped>\n",
       "    .dataframe tbody tr th:only-of-type {\n",
       "        vertical-align: middle;\n",
       "    }\n",
       "\n",
       "    .dataframe tbody tr th {\n",
       "        vertical-align: top;\n",
       "    }\n",
       "\n",
       "    .dataframe thead th {\n",
       "        text-align: right;\n",
       "    }\n",
       "</style>\n",
       "<table border=\"1\" class=\"dataframe\">\n",
       "  <thead>\n",
       "    <tr style=\"text-align: right;\">\n",
       "      <th></th>\n",
       "      <th>Value</th>\n",
       "    </tr>\n",
       "    <tr>\n",
       "      <th>Date</th>\n",
       "      <th></th>\n",
       "    </tr>\n",
       "  </thead>\n",
       "  <tbody>\n",
       "    <tr>\n",
       "      <th>1986-03-06</th>\n",
       "      <td>0.068111</td>\n",
       "    </tr>\n",
       "    <tr>\n",
       "      <th>1986-03-10</th>\n",
       "      <td>0.069028</td>\n",
       "    </tr>\n",
       "    <tr>\n",
       "      <th>1986-03-12</th>\n",
       "      <td>0.067417</td>\n",
       "    </tr>\n",
       "    <tr>\n",
       "      <th>1986-03-14</th>\n",
       "      <td>0.064584</td>\n",
       "    </tr>\n",
       "    <tr>\n",
       "      <th>1986-03-17</th>\n",
       "      <td>0.068222</td>\n",
       "    </tr>\n",
       "  </tbody>\n",
       "</table>\n",
       "</div>"
      ],
      "text/plain": [
       "               Value\n",
       "Date                \n",
       "1986-03-06  0.068111\n",
       "1986-03-10  0.069028\n",
       "1986-03-12  0.067417\n",
       "1986-03-14  0.064584\n",
       "1986-03-17  0.068222"
      ]
     },
     "execution_count": 21,
     "metadata": {},
     "output_type": "execute_result"
    }
   ],
   "source": [
    "CDI_diario.head()"
   ]
  },
  {
   "cell_type": "code",
   "execution_count": 22,
   "metadata": {},
   "outputs": [
    {
     "data": {
      "text/html": [
       "<div>\n",
       "<style scoped>\n",
       "    .dataframe tbody tr th:only-of-type {\n",
       "        vertical-align: middle;\n",
       "    }\n",
       "\n",
       "    .dataframe tbody tr th {\n",
       "        vertical-align: top;\n",
       "    }\n",
       "\n",
       "    .dataframe thead th {\n",
       "        text-align: right;\n",
       "    }\n",
       "</style>\n",
       "<table border=\"1\" class=\"dataframe\">\n",
       "  <thead>\n",
       "    <tr style=\"text-align: right;\">\n",
       "      <th></th>\n",
       "      <th>Value</th>\n",
       "    </tr>\n",
       "    <tr>\n",
       "      <th>Date</th>\n",
       "      <th></th>\n",
       "    </tr>\n",
       "  </thead>\n",
       "  <tbody>\n",
       "    <tr>\n",
       "      <th>1986-06-04</th>\n",
       "      <td>0.065041</td>\n",
       "    </tr>\n",
       "    <tr>\n",
       "      <th>1986-06-05</th>\n",
       "      <td>0.067397</td>\n",
       "    </tr>\n",
       "    <tr>\n",
       "      <th>1986-06-06</th>\n",
       "      <td>0.066740</td>\n",
       "    </tr>\n",
       "    <tr>\n",
       "      <th>1986-06-09</th>\n",
       "      <td>0.068247</td>\n",
       "    </tr>\n",
       "    <tr>\n",
       "      <th>1986-06-10</th>\n",
       "      <td>0.067041</td>\n",
       "    </tr>\n",
       "  </tbody>\n",
       "</table>\n",
       "</div>"
      ],
      "text/plain": [
       "               Value\n",
       "Date                \n",
       "1986-06-04  0.065041\n",
       "1986-06-05  0.067397\n",
       "1986-06-06  0.066740\n",
       "1986-06-09  0.068247\n",
       "1986-06-10  0.067041"
      ]
     },
     "execution_count": 22,
     "metadata": {},
     "output_type": "execute_result"
    }
   ],
   "source": [
    "SELIC_diaria.head()"
   ]
  },
  {
   "cell_type": "code",
   "execution_count": 25,
   "metadata": {},
   "outputs": [
    {
     "data": {
      "text/html": [
       "<div>\n",
       "<style scoped>\n",
       "    .dataframe tbody tr th:only-of-type {\n",
       "        vertical-align: middle;\n",
       "    }\n",
       "\n",
       "    .dataframe tbody tr th {\n",
       "        vertical-align: top;\n",
       "    }\n",
       "\n",
       "    .dataframe thead th {\n",
       "        text-align: right;\n",
       "    }\n",
       "</style>\n",
       "<table border=\"1\" class=\"dataframe\">\n",
       "  <thead>\n",
       "    <tr style=\"text-align: right;\">\n",
       "      <th></th>\n",
       "      <th>Value</th>\n",
       "    </tr>\n",
       "    <tr>\n",
       "      <th>Date</th>\n",
       "      <th></th>\n",
       "    </tr>\n",
       "  </thead>\n",
       "  <tbody>\n",
       "    <tr>\n",
       "      <th>2019-06-10</th>\n",
       "      <td>3.8784</td>\n",
       "    </tr>\n",
       "    <tr>\n",
       "      <th>2019-06-11</th>\n",
       "      <td>3.8658</td>\n",
       "    </tr>\n",
       "    <tr>\n",
       "      <th>2019-06-12</th>\n",
       "      <td>3.8431</td>\n",
       "    </tr>\n",
       "    <tr>\n",
       "      <th>2019-06-13</th>\n",
       "      <td>3.8423</td>\n",
       "    </tr>\n",
       "    <tr>\n",
       "      <th>2019-06-14</th>\n",
       "      <td>3.8807</td>\n",
       "    </tr>\n",
       "  </tbody>\n",
       "</table>\n",
       "</div>"
      ],
      "text/plain": [
       "             Value\n",
       "Date              \n",
       "2019-06-10  3.8784\n",
       "2019-06-11  3.8658\n",
       "2019-06-12  3.8431\n",
       "2019-06-13  3.8423\n",
       "2019-06-14  3.8807"
      ]
     },
     "execution_count": 25,
     "metadata": {},
     "output_type": "execute_result"
    }
   ],
   "source": [
    "dolar_compra.tail()"
   ]
  },
  {
   "cell_type": "code",
   "execution_count": null,
   "metadata": {},
   "outputs": [],
   "source": []
  }
 ],
 "metadata": {
  "kernelspec": {
   "display_name": "Python 3",
   "language": "python",
   "name": "python3"
  },
  "language_info": {
   "codemirror_mode": {
    "name": "ipython",
    "version": 3
   },
   "file_extension": ".py",
   "mimetype": "text/x-python",
   "name": "python",
   "nbconvert_exporter": "python",
   "pygments_lexer": "ipython3",
   "version": "3.7.1"
  }
 },
 "nbformat": 4,
 "nbformat_minor": 2
}
