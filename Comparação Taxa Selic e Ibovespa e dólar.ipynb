{
 "cells": [
  {
   "cell_type": "code",
   "execution_count": 24,
   "metadata": {},
   "outputs": [],
   "source": [
    "import urllib.request\n",
    "import pandas as pd\n",
    "import matplotlib.pyplot as plt\n",
    "import numpy as np\n",
    "from pandas_datareader import data as wb\n",
    "from datetime import datetime\n",
    "#considerem a sigla \"rd\" como retorno diário"
   ]
  },
  {
   "cell_type": "code",
   "execution_count": 44,
   "metadata": {},
   "outputs": [],
   "source": [
    "IBOV = wb.DataReader('^BVSP', data_source='yahoo', start='2009-1-1')#Cotação diária do Ibovesva desde 2009"
   ]
  },
  {
   "cell_type": "code",
   "execution_count": 45,
   "metadata": {},
   "outputs": [],
   "source": [
    "import quandl \n",
    "\"\"\"Um site que organiza dados econômicos disponibiliza gratuitamente algumas bases de dados\n",
    "Para baixar a biblioteca olhe na documentação https://docs.quandl.com/\n",
    "O comando para baixar esses dados usando a biblioteca deles é quandl.get\n",
    "\"\"\"\n",
    "CDI_diario= quandl.get(\"BCB/12\", authtoken=\"wHnVchHSPwZYMsXTPAUm\",start_date=\"2009-1-1\")# % diária\n",
    "SELIC_diaria= quandl.get(\"BCB/11\", authtoken=\"wHnVchHSPwZYMsXTPAUm\",start_date=\"2009-1-1\")# %diária\n",
    "dolar_compra=quandl.get(\"BCB/10813\", authtoken=\"wHnVchHSPwZYMsXTPAUm\",start_date=\"2009-1-1\")# Preço diário"
   ]
  },
  {
   "cell_type": "code",
   "execution_count": 46,
   "metadata": {},
   "outputs": [
    {
     "data": {
      "text/html": [
       "<div>\n",
       "<style scoped>\n",
       "    .dataframe tbody tr th:only-of-type {\n",
       "        vertical-align: middle;\n",
       "    }\n",
       "\n",
       "    .dataframe tbody tr th {\n",
       "        vertical-align: top;\n",
       "    }\n",
       "\n",
       "    .dataframe thead th {\n",
       "        text-align: right;\n",
       "    }\n",
       "</style>\n",
       "<table border=\"1\" class=\"dataframe\">\n",
       "  <thead>\n",
       "    <tr style=\"text-align: right;\">\n",
       "      <th></th>\n",
       "      <th>High</th>\n",
       "      <th>Low</th>\n",
       "      <th>Open</th>\n",
       "      <th>Close</th>\n",
       "      <th>Volume</th>\n",
       "      <th>Adj Close</th>\n",
       "    </tr>\n",
       "    <tr>\n",
       "      <th>Date</th>\n",
       "      <th></th>\n",
       "      <th></th>\n",
       "      <th></th>\n",
       "      <th></th>\n",
       "      <th></th>\n",
       "      <th></th>\n",
       "    </tr>\n",
       "  </thead>\n",
       "  <tbody>\n",
       "    <tr>\n",
       "      <th>2009-01-02</th>\n",
       "      <td>40265.0</td>\n",
       "      <td>37550.0</td>\n",
       "      <td>37550.0</td>\n",
       "      <td>40244.0</td>\n",
       "      <td>1055200.0</td>\n",
       "      <td>40244.0</td>\n",
       "    </tr>\n",
       "    <tr>\n",
       "      <th>2009-01-05</th>\n",
       "      <td>41889.0</td>\n",
       "      <td>39526.0</td>\n",
       "      <td>40243.0</td>\n",
       "      <td>41519.0</td>\n",
       "      <td>1909200.0</td>\n",
       "      <td>41519.0</td>\n",
       "    </tr>\n",
       "    <tr>\n",
       "      <th>2009-01-06</th>\n",
       "      <td>42363.0</td>\n",
       "      <td>41520.0</td>\n",
       "      <td>41520.0</td>\n",
       "      <td>42312.0</td>\n",
       "      <td>1791000.0</td>\n",
       "      <td>42312.0</td>\n",
       "    </tr>\n",
       "    <tr>\n",
       "      <th>2009-01-07</th>\n",
       "      <td>42308.0</td>\n",
       "      <td>40563.0</td>\n",
       "      <td>42308.0</td>\n",
       "      <td>40820.0</td>\n",
       "      <td>1383600.0</td>\n",
       "      <td>40820.0</td>\n",
       "    </tr>\n",
       "    <tr>\n",
       "      <th>2009-01-08</th>\n",
       "      <td>41991.0</td>\n",
       "      <td>40251.0</td>\n",
       "      <td>40819.0</td>\n",
       "      <td>41991.0</td>\n",
       "      <td>1556000.0</td>\n",
       "      <td>41991.0</td>\n",
       "    </tr>\n",
       "  </tbody>\n",
       "</table>\n",
       "</div>"
      ],
      "text/plain": [
       "               High      Low     Open    Close     Volume  Adj Close\n",
       "Date                                                                \n",
       "2009-01-02  40265.0  37550.0  37550.0  40244.0  1055200.0    40244.0\n",
       "2009-01-05  41889.0  39526.0  40243.0  41519.0  1909200.0    41519.0\n",
       "2009-01-06  42363.0  41520.0  41520.0  42312.0  1791000.0    42312.0\n",
       "2009-01-07  42308.0  40563.0  42308.0  40820.0  1383600.0    40820.0\n",
       "2009-01-08  41991.0  40251.0  40819.0  41991.0  1556000.0    41991.0"
      ]
     },
     "execution_count": 46,
     "metadata": {},
     "output_type": "execute_result"
    }
   ],
   "source": [
    "IBOV.head()"
   ]
  },
  {
   "cell_type": "code",
   "execution_count": 47,
   "metadata": {},
   "outputs": [
    {
     "data": {
      "text/html": [
       "<div>\n",
       "<style scoped>\n",
       "    .dataframe tbody tr th:only-of-type {\n",
       "        vertical-align: middle;\n",
       "    }\n",
       "\n",
       "    .dataframe tbody tr th {\n",
       "        vertical-align: top;\n",
       "    }\n",
       "\n",
       "    .dataframe thead th {\n",
       "        text-align: right;\n",
       "    }\n",
       "</style>\n",
       "<table border=\"1\" class=\"dataframe\">\n",
       "  <thead>\n",
       "    <tr style=\"text-align: right;\">\n",
       "      <th></th>\n",
       "      <th>rd_CDI</th>\n",
       "    </tr>\n",
       "    <tr>\n",
       "      <th>Date</th>\n",
       "      <th></th>\n",
       "    </tr>\n",
       "  </thead>\n",
       "  <tbody>\n",
       "    <tr>\n",
       "      <th>2009-01-02</th>\n",
       "      <td>0.050683</td>\n",
       "    </tr>\n",
       "    <tr>\n",
       "      <th>2009-01-05</th>\n",
       "      <td>0.050578</td>\n",
       "    </tr>\n",
       "    <tr>\n",
       "      <th>2009-01-06</th>\n",
       "      <td>0.050613</td>\n",
       "    </tr>\n",
       "    <tr>\n",
       "      <th>2009-01-07</th>\n",
       "      <td>0.050648</td>\n",
       "    </tr>\n",
       "    <tr>\n",
       "      <th>2009-01-08</th>\n",
       "      <td>0.050613</td>\n",
       "    </tr>\n",
       "  </tbody>\n",
       "</table>\n",
       "</div>"
      ],
      "text/plain": [
       "              rd_CDI\n",
       "Date                \n",
       "2009-01-02  0.050683\n",
       "2009-01-05  0.050578\n",
       "2009-01-06  0.050613\n",
       "2009-01-07  0.050648\n",
       "2009-01-08  0.050613"
      ]
     },
     "execution_count": 47,
     "metadata": {},
     "output_type": "execute_result"
    }
   ],
   "source": [
    "CDI_diario.set_axis(['rd_CDI'],axis='columns',inplace=True)\n",
    "CDI_diario.head()"
   ]
  },
  {
   "cell_type": "code",
   "execution_count": 48,
   "metadata": {},
   "outputs": [
    {
     "data": {
      "text/html": [
       "<div>\n",
       "<style scoped>\n",
       "    .dataframe tbody tr th:only-of-type {\n",
       "        vertical-align: middle;\n",
       "    }\n",
       "\n",
       "    .dataframe tbody tr th {\n",
       "        vertical-align: top;\n",
       "    }\n",
       "\n",
       "    .dataframe thead th {\n",
       "        text-align: right;\n",
       "    }\n",
       "</style>\n",
       "<table border=\"1\" class=\"dataframe\">\n",
       "  <thead>\n",
       "    <tr style=\"text-align: right;\">\n",
       "      <th></th>\n",
       "      <th>rd_SELIC</th>\n",
       "    </tr>\n",
       "    <tr>\n",
       "      <th>Date</th>\n",
       "      <th></th>\n",
       "    </tr>\n",
       "  </thead>\n",
       "  <tbody>\n",
       "    <tr>\n",
       "      <th>2009-01-02</th>\n",
       "      <td>0.050858</td>\n",
       "    </tr>\n",
       "    <tr>\n",
       "      <th>2009-01-05</th>\n",
       "      <td>0.050823</td>\n",
       "    </tr>\n",
       "    <tr>\n",
       "      <th>2009-01-06</th>\n",
       "      <td>0.050823</td>\n",
       "    </tr>\n",
       "    <tr>\n",
       "      <th>2009-01-07</th>\n",
       "      <td>0.050823</td>\n",
       "    </tr>\n",
       "    <tr>\n",
       "      <th>2009-01-08</th>\n",
       "      <td>0.050823</td>\n",
       "    </tr>\n",
       "  </tbody>\n",
       "</table>\n",
       "</div>"
      ],
      "text/plain": [
       "            rd_SELIC\n",
       "Date                \n",
       "2009-01-02  0.050858\n",
       "2009-01-05  0.050823\n",
       "2009-01-06  0.050823\n",
       "2009-01-07  0.050823\n",
       "2009-01-08  0.050823"
      ]
     },
     "execution_count": 48,
     "metadata": {},
     "output_type": "execute_result"
    }
   ],
   "source": [
    "SELIC_diaria.set_axis(['rd_SELIC'],axis='columns',inplace=True)\n",
    "SELIC_diaria.head()"
   ]
  },
  {
   "cell_type": "code",
   "execution_count": 49,
   "metadata": {},
   "outputs": [
    {
     "data": {
      "text/html": [
       "<div>\n",
       "<style scoped>\n",
       "    .dataframe tbody tr th:only-of-type {\n",
       "        vertical-align: middle;\n",
       "    }\n",
       "\n",
       "    .dataframe tbody tr th {\n",
       "        vertical-align: top;\n",
       "    }\n",
       "\n",
       "    .dataframe thead th {\n",
       "        text-align: right;\n",
       "    }\n",
       "</style>\n",
       "<table border=\"1\" class=\"dataframe\">\n",
       "  <thead>\n",
       "    <tr style=\"text-align: right;\">\n",
       "      <th></th>\n",
       "      <th>rd_dolar</th>\n",
       "    </tr>\n",
       "    <tr>\n",
       "      <th>Date</th>\n",
       "      <th></th>\n",
       "    </tr>\n",
       "  </thead>\n",
       "  <tbody>\n",
       "    <tr>\n",
       "      <th>2009-01-02</th>\n",
       "      <td>2.3290</td>\n",
       "    </tr>\n",
       "    <tr>\n",
       "      <th>2009-01-05</th>\n",
       "      <td>2.2772</td>\n",
       "    </tr>\n",
       "    <tr>\n",
       "      <th>2009-01-06</th>\n",
       "      <td>2.1881</td>\n",
       "    </tr>\n",
       "    <tr>\n",
       "      <th>2009-01-07</th>\n",
       "      <td>2.2166</td>\n",
       "    </tr>\n",
       "    <tr>\n",
       "      <th>2009-01-08</th>\n",
       "      <td>2.2675</td>\n",
       "    </tr>\n",
       "  </tbody>\n",
       "</table>\n",
       "</div>"
      ],
      "text/plain": [
       "            rd_dolar\n",
       "Date                \n",
       "2009-01-02    2.3290\n",
       "2009-01-05    2.2772\n",
       "2009-01-06    2.1881\n",
       "2009-01-07    2.2166\n",
       "2009-01-08    2.2675"
      ]
     },
     "execution_count": 49,
     "metadata": {},
     "output_type": "execute_result"
    }
   ],
   "source": [
    "dolar_compra.set_axis(['rd_dolar'],axis='columns',inplace=True)\n",
    "dolar_compra.head()"
   ]
  },
  {
   "cell_type": "markdown",
   "metadata": {},
   "source": [
    "Para o calculo do portfolio de máximo retorno e minimo risco, precisamos usar o retorno diário em %\n",
    "devemos, transfomar o preço diário do dólar e preço ajustado do ibovespa,usando a seguinte equação:\n"
   ]
  },
  {
   "cell_type": "markdown",
   "metadata": {},
   "source": [
    "# Retorno diário = ((preço atual)/(preço  do dia anterior))-1"
   ]
  },
  {
   "cell_type": "markdown",
   "metadata": {},
   "source": [
    "# $$\n",
    "Retorno diário = \\frac{Preço atual}{Preço do dia anterior} - 1\n",
    "$$"
   ]
  },
  {
   "cell_type": "code",
   "execution_count": 50,
   "metadata": {},
   "outputs": [],
   "source": [
    "IBOVESPA=pd.DataFrame()"
   ]
  },
  {
   "cell_type": "code",
   "execution_count": 51,
   "metadata": {},
   "outputs": [],
   "source": [
    "# Criando um outro DataFrame com o retorno diário\n",
    "IBOVESPA['rd_ibov']=(IBOV['Adj Close']/IBOV['Adj Close'].shift(1))-1 \n",
    "#inserindo uma coluna e calculando o retorno diário\n",
    "dolar_compra['rd_dolar']=(dolar_compra['rd_dolar']/dolar_compra['rd_dolar'].shift(1))-1 #\n"
   ]
  },
  {
   "cell_type": "markdown",
   "metadata": {},
   "source": [
    "Por questões matemáticas utilizaremos o conceito de log retorno para os cálculos de correlação e covariância dos ativos."
   ]
  },
  {
   "cell_type": "code",
   "execution_count": 52,
   "metadata": {},
   "outputs": [],
   "source": [
    "ativos=pd.DataFrame()"
   ]
  },
  {
   "cell_type": "code",
   "execution_count": 53,
   "metadata": {},
   "outputs": [
    {
     "data": {
      "text/html": [
       "<div>\n",
       "<style scoped>\n",
       "    .dataframe tbody tr th:only-of-type {\n",
       "        vertical-align: middle;\n",
       "    }\n",
       "\n",
       "    .dataframe tbody tr th {\n",
       "        vertical-align: top;\n",
       "    }\n",
       "\n",
       "    .dataframe thead th {\n",
       "        text-align: right;\n",
       "    }\n",
       "</style>\n",
       "<table border=\"1\" class=\"dataframe\">\n",
       "  <thead>\n",
       "    <tr style=\"text-align: right;\">\n",
       "      <th></th>\n",
       "      <th>rd_dolar</th>\n",
       "      <th>rd_ibov</th>\n",
       "      <th>rd_SELIC</th>\n",
       "    </tr>\n",
       "    <tr>\n",
       "      <th>Date</th>\n",
       "      <th></th>\n",
       "      <th></th>\n",
       "      <th></th>\n",
       "    </tr>\n",
       "  </thead>\n",
       "  <tbody>\n",
       "    <tr>\n",
       "      <th>2009-01-05</th>\n",
       "      <td>-0.022241</td>\n",
       "      <td>0.031682</td>\n",
       "      <td>0.050823</td>\n",
       "    </tr>\n",
       "    <tr>\n",
       "      <th>2009-01-06</th>\n",
       "      <td>-0.039127</td>\n",
       "      <td>0.019100</td>\n",
       "      <td>0.050823</td>\n",
       "    </tr>\n",
       "    <tr>\n",
       "      <th>2009-01-07</th>\n",
       "      <td>0.013025</td>\n",
       "      <td>-0.035262</td>\n",
       "      <td>0.050823</td>\n",
       "    </tr>\n",
       "    <tr>\n",
       "      <th>2009-01-08</th>\n",
       "      <td>0.022963</td>\n",
       "      <td>0.028687</td>\n",
       "      <td>0.050823</td>\n",
       "    </tr>\n",
       "    <tr>\n",
       "      <th>2009-01-09</th>\n",
       "      <td>0.008115</td>\n",
       "      <td>-0.009716</td>\n",
       "      <td>0.050823</td>\n",
       "    </tr>\n",
       "  </tbody>\n",
       "</table>\n",
       "</div>"
      ],
      "text/plain": [
       "            rd_dolar   rd_ibov  rd_SELIC\n",
       "Date                                    \n",
       "2009-01-05 -0.022241  0.031682  0.050823\n",
       "2009-01-06 -0.039127  0.019100  0.050823\n",
       "2009-01-07  0.013025 -0.035262  0.050823\n",
       "2009-01-08  0.022963  0.028687  0.050823\n",
       "2009-01-09  0.008115 -0.009716  0.050823"
      ]
     },
     "execution_count": 53,
     "metadata": {},
     "output_type": "execute_result"
    }
   ],
   "source": [
    "#Comando para juntar as bases de dados usando a data como chave\n",
    "ativos=dolar_compra.merge(IBOVESPA,on='Date').merge(SELIC_diaria,on='Date')\n",
    "#comando para excluir onde tem-se elementos vazio, no nosso caso temos só as 2 primeiras linhas\n",
    "ativos.dropna(inplace=True)\n",
    "ativos.head()"
   ]
  },
  {
   "cell_type": "code",
   "execution_count": 54,
   "metadata": {},
   "outputs": [
    {
     "data": {
      "text/html": [
       "<div>\n",
       "<style scoped>\n",
       "    .dataframe tbody tr th:only-of-type {\n",
       "        vertical-align: middle;\n",
       "    }\n",
       "\n",
       "    .dataframe tbody tr th {\n",
       "        vertical-align: top;\n",
       "    }\n",
       "\n",
       "    .dataframe thead th {\n",
       "        text-align: right;\n",
       "    }\n",
       "</style>\n",
       "<table border=\"1\" class=\"dataframe\">\n",
       "  <thead>\n",
       "    <tr style=\"text-align: right;\">\n",
       "      <th></th>\n",
       "      <th>rd_dolar</th>\n",
       "      <th>rd_ibov</th>\n",
       "      <th>rd_SELIC</th>\n",
       "    </tr>\n",
       "  </thead>\n",
       "  <tbody>\n",
       "    <tr>\n",
       "      <th>rd_dolar</th>\n",
       "      <td>1.000000</td>\n",
       "      <td>-0.365672</td>\n",
       "      <td>-0.004857</td>\n",
       "    </tr>\n",
       "    <tr>\n",
       "      <th>rd_ibov</th>\n",
       "      <td>-0.365672</td>\n",
       "      <td>1.000000</td>\n",
       "      <td>-0.001864</td>\n",
       "    </tr>\n",
       "    <tr>\n",
       "      <th>rd_SELIC</th>\n",
       "      <td>-0.004857</td>\n",
       "      <td>-0.001864</td>\n",
       "      <td>1.000000</td>\n",
       "    </tr>\n",
       "  </tbody>\n",
       "</table>\n",
       "</div>"
      ],
      "text/plain": [
       "          rd_dolar   rd_ibov  rd_SELIC\n",
       "rd_dolar  1.000000 -0.365672 -0.004857\n",
       "rd_ibov  -0.365672  1.000000 -0.001864\n",
       "rd_SELIC -0.004857 -0.001864  1.000000"
      ]
     },
     "execution_count": 54,
     "metadata": {},
     "output_type": "execute_result"
    }
   ],
   "source": [
    "ativos.corr()#Calculanod a correlação entre os ativos"
   ]
  },
  {
   "cell_type": "code",
   "execution_count": 55,
   "metadata": {},
   "outputs": [
    {
     "data": {
      "text/plain": [
       "rd_dolar    0.000267\n",
       "rd_ibov     0.000460\n",
       "rd_SELIC    0.038239\n",
       "dtype: float64"
      ]
     },
     "execution_count": 55,
     "metadata": {},
     "output_type": "execute_result"
    }
   ],
   "source": [
    "ativos.mean() # Calculando a média do retorno diário"
   ]
  },
  {
   "cell_type": "code",
   "execution_count": 56,
   "metadata": {},
   "outputs": [
    {
     "data": {
      "text/html": [
       "<div>\n",
       "<style scoped>\n",
       "    .dataframe tbody tr th:only-of-type {\n",
       "        vertical-align: middle;\n",
       "    }\n",
       "\n",
       "    .dataframe tbody tr th {\n",
       "        vertical-align: top;\n",
       "    }\n",
       "\n",
       "    .dataframe thead th {\n",
       "        text-align: right;\n",
       "    }\n",
       "</style>\n",
       "<table border=\"1\" class=\"dataframe\">\n",
       "  <thead>\n",
       "    <tr style=\"text-align: right;\">\n",
       "      <th></th>\n",
       "      <th>rd_ibov</th>\n",
       "    </tr>\n",
       "    <tr>\n",
       "      <th>Date</th>\n",
       "      <th></th>\n",
       "    </tr>\n",
       "  </thead>\n",
       "  <tbody>\n",
       "    <tr>\n",
       "      <th>2009-01-02</th>\n",
       "      <td>NaN</td>\n",
       "    </tr>\n",
       "    <tr>\n",
       "      <th>2009-01-05</th>\n",
       "      <td>0.031682</td>\n",
       "    </tr>\n",
       "    <tr>\n",
       "      <th>2009-01-06</th>\n",
       "      <td>0.019100</td>\n",
       "    </tr>\n",
       "    <tr>\n",
       "      <th>2009-01-07</th>\n",
       "      <td>-0.035262</td>\n",
       "    </tr>\n",
       "    <tr>\n",
       "      <th>2009-01-08</th>\n",
       "      <td>0.028687</td>\n",
       "    </tr>\n",
       "  </tbody>\n",
       "</table>\n",
       "</div>"
      ],
      "text/plain": [
       "             rd_ibov\n",
       "Date                \n",
       "2009-01-02       NaN\n",
       "2009-01-05  0.031682\n",
       "2009-01-06  0.019100\n",
       "2009-01-07 -0.035262\n",
       "2009-01-08  0.028687"
      ]
     },
     "execution_count": 56,
     "metadata": {},
     "output_type": "execute_result"
    }
   ],
   "source": [
    "IBOVESPA.head()\n",
    "#Agora falta fazer as contas da teoria do Portfolio, passaremos a como fazer uma gráfico com 2 indices"
   ]
  },
  {
   "cell_type": "code",
   "execution_count": 57,
   "metadata": {},
   "outputs": [
    {
     "data": {
      "text/html": [
       "<div>\n",
       "<style scoped>\n",
       "    .dataframe tbody tr th:only-of-type {\n",
       "        vertical-align: middle;\n",
       "    }\n",
       "\n",
       "    .dataframe tbody tr th {\n",
       "        vertical-align: top;\n",
       "    }\n",
       "\n",
       "    .dataframe thead th {\n",
       "        text-align: right;\n",
       "    }\n",
       "</style>\n",
       "<table border=\"1\" class=\"dataframe\">\n",
       "  <thead>\n",
       "    <tr style=\"text-align: right;\">\n",
       "      <th></th>\n",
       "      <th>High</th>\n",
       "      <th>Low</th>\n",
       "      <th>Open</th>\n",
       "      <th>Close</th>\n",
       "      <th>Volume</th>\n",
       "      <th>Adj Close</th>\n",
       "    </tr>\n",
       "    <tr>\n",
       "      <th>Date</th>\n",
       "      <th></th>\n",
       "      <th></th>\n",
       "      <th></th>\n",
       "      <th></th>\n",
       "      <th></th>\n",
       "      <th></th>\n",
       "    </tr>\n",
       "  </thead>\n",
       "  <tbody>\n",
       "    <tr>\n",
       "      <th>2009-01-02</th>\n",
       "      <td>40265.0</td>\n",
       "      <td>37550.0</td>\n",
       "      <td>37550.0</td>\n",
       "      <td>40244.0</td>\n",
       "      <td>1055200.0</td>\n",
       "      <td>40244.0</td>\n",
       "    </tr>\n",
       "    <tr>\n",
       "      <th>2009-01-05</th>\n",
       "      <td>41889.0</td>\n",
       "      <td>39526.0</td>\n",
       "      <td>40243.0</td>\n",
       "      <td>41519.0</td>\n",
       "      <td>1909200.0</td>\n",
       "      <td>41519.0</td>\n",
       "    </tr>\n",
       "    <tr>\n",
       "      <th>2009-01-06</th>\n",
       "      <td>42363.0</td>\n",
       "      <td>41520.0</td>\n",
       "      <td>41520.0</td>\n",
       "      <td>42312.0</td>\n",
       "      <td>1791000.0</td>\n",
       "      <td>42312.0</td>\n",
       "    </tr>\n",
       "    <tr>\n",
       "      <th>2009-01-07</th>\n",
       "      <td>42308.0</td>\n",
       "      <td>40563.0</td>\n",
       "      <td>42308.0</td>\n",
       "      <td>40820.0</td>\n",
       "      <td>1383600.0</td>\n",
       "      <td>40820.0</td>\n",
       "    </tr>\n",
       "    <tr>\n",
       "      <th>2009-01-08</th>\n",
       "      <td>41991.0</td>\n",
       "      <td>40251.0</td>\n",
       "      <td>40819.0</td>\n",
       "      <td>41991.0</td>\n",
       "      <td>1556000.0</td>\n",
       "      <td>41991.0</td>\n",
       "    </tr>\n",
       "  </tbody>\n",
       "</table>\n",
       "</div>"
      ],
      "text/plain": [
       "               High      Low     Open    Close     Volume  Adj Close\n",
       "Date                                                                \n",
       "2009-01-02  40265.0  37550.0  37550.0  40244.0  1055200.0    40244.0\n",
       "2009-01-05  41889.0  39526.0  40243.0  41519.0  1909200.0    41519.0\n",
       "2009-01-06  42363.0  41520.0  41520.0  42312.0  1791000.0    42312.0\n",
       "2009-01-07  42308.0  40563.0  42308.0  40820.0  1383600.0    40820.0\n",
       "2009-01-08  41991.0  40251.0  40819.0  41991.0  1556000.0    41991.0"
      ]
     },
     "execution_count": 57,
     "metadata": {},
     "output_type": "execute_result"
    }
   ],
   "source": [
    "IBOV.head()"
   ]
  },
  {
   "cell_type": "code",
   "execution_count": 61,
   "metadata": {},
   "outputs": [],
   "source": [
    "IBOV['data']=IBOV.index\n",
    "IBOV['data'] = pd.to_datetime(IBOV.data)"
   ]
  },
  {
   "cell_type": "code",
   "execution_count": 62,
   "metadata": {},
   "outputs": [],
   "source": [
    "IBOV['data'] = IBOV['data'].dt.strftime('%d/%m/%Y')#colocando as data no padrão brasileiro"
   ]
  },
  {
   "cell_type": "code",
   "execution_count": 63,
   "metadata": {},
   "outputs": [
    {
     "data": {
      "text/html": [
       "<div>\n",
       "<style scoped>\n",
       "    .dataframe tbody tr th:only-of-type {\n",
       "        vertical-align: middle;\n",
       "    }\n",
       "\n",
       "    .dataframe tbody tr th {\n",
       "        vertical-align: top;\n",
       "    }\n",
       "\n",
       "    .dataframe thead th {\n",
       "        text-align: right;\n",
       "    }\n",
       "</style>\n",
       "<table border=\"1\" class=\"dataframe\">\n",
       "  <thead>\n",
       "    <tr style=\"text-align: right;\">\n",
       "      <th></th>\n",
       "      <th>High</th>\n",
       "      <th>Low</th>\n",
       "      <th>Open</th>\n",
       "      <th>Close</th>\n",
       "      <th>Volume</th>\n",
       "      <th>Adj Close</th>\n",
       "      <th>data</th>\n",
       "    </tr>\n",
       "    <tr>\n",
       "      <th>Date</th>\n",
       "      <th></th>\n",
       "      <th></th>\n",
       "      <th></th>\n",
       "      <th></th>\n",
       "      <th></th>\n",
       "      <th></th>\n",
       "      <th></th>\n",
       "    </tr>\n",
       "  </thead>\n",
       "  <tbody>\n",
       "    <tr>\n",
       "      <th>2009-01-02</th>\n",
       "      <td>40265.0</td>\n",
       "      <td>37550.0</td>\n",
       "      <td>37550.0</td>\n",
       "      <td>40244.0</td>\n",
       "      <td>1055200.0</td>\n",
       "      <td>40244.0</td>\n",
       "      <td>02/01/2009</td>\n",
       "    </tr>\n",
       "    <tr>\n",
       "      <th>2009-01-05</th>\n",
       "      <td>41889.0</td>\n",
       "      <td>39526.0</td>\n",
       "      <td>40243.0</td>\n",
       "      <td>41519.0</td>\n",
       "      <td>1909200.0</td>\n",
       "      <td>41519.0</td>\n",
       "      <td>05/01/2009</td>\n",
       "    </tr>\n",
       "    <tr>\n",
       "      <th>2009-01-06</th>\n",
       "      <td>42363.0</td>\n",
       "      <td>41520.0</td>\n",
       "      <td>41520.0</td>\n",
       "      <td>42312.0</td>\n",
       "      <td>1791000.0</td>\n",
       "      <td>42312.0</td>\n",
       "      <td>06/01/2009</td>\n",
       "    </tr>\n",
       "    <tr>\n",
       "      <th>2009-01-07</th>\n",
       "      <td>42308.0</td>\n",
       "      <td>40563.0</td>\n",
       "      <td>42308.0</td>\n",
       "      <td>40820.0</td>\n",
       "      <td>1383600.0</td>\n",
       "      <td>40820.0</td>\n",
       "      <td>07/01/2009</td>\n",
       "    </tr>\n",
       "    <tr>\n",
       "      <th>2009-01-08</th>\n",
       "      <td>41991.0</td>\n",
       "      <td>40251.0</td>\n",
       "      <td>40819.0</td>\n",
       "      <td>41991.0</td>\n",
       "      <td>1556000.0</td>\n",
       "      <td>41991.0</td>\n",
       "      <td>08/01/2009</td>\n",
       "    </tr>\n",
       "  </tbody>\n",
       "</table>\n",
       "</div>"
      ],
      "text/plain": [
       "               High      Low     Open    Close     Volume  Adj Close  \\\n",
       "Date                                                                   \n",
       "2009-01-02  40265.0  37550.0  37550.0  40244.0  1055200.0    40244.0   \n",
       "2009-01-05  41889.0  39526.0  40243.0  41519.0  1909200.0    41519.0   \n",
       "2009-01-06  42363.0  41520.0  41520.0  42312.0  1791000.0    42312.0   \n",
       "2009-01-07  42308.0  40563.0  42308.0  40820.0  1383600.0    40820.0   \n",
       "2009-01-08  41991.0  40251.0  40819.0  41991.0  1556000.0    41991.0   \n",
       "\n",
       "                  data  \n",
       "Date                    \n",
       "2009-01-02  02/01/2009  \n",
       "2009-01-05  05/01/2009  \n",
       "2009-01-06  06/01/2009  \n",
       "2009-01-07  07/01/2009  \n",
       "2009-01-08  08/01/2009  "
      ]
     },
     "execution_count": 63,
     "metadata": {},
     "output_type": "execute_result"
    }
   ],
   "source": [
    "IBOV.rename_axis(\"Date\").head()"
   ]
  },
  {
   "cell_type": "code",
   "execution_count": 64,
   "metadata": {},
   "outputs": [
    {
     "data": {
      "image/png": "[encoded data removed]",
      "text/plain": [
       "<Figure size 432x288 with 1 Axes>"
      ]
     },
     "metadata": {
      "needs_background": "light"
     },
     "output_type": "display_data"
    }
   ],
   "source": [
    "#Gráfico do IBOVESPA desde 2009\n",
    "fig, ax = plt.subplots()\n",
    "ax.plot(IBOV['Adj Close'])\n",
    "plt.show()"
   ]
  },
  {
   "cell_type": "code",
   "execution_count": 65,
   "metadata": {},
   "outputs": [
    {
     "data": {
      "text/html": [
       "<div>\n",
       "<style scoped>\n",
       "    .dataframe tbody tr th:only-of-type {\n",
       "        vertical-align: middle;\n",
       "    }\n",
       "\n",
       "    .dataframe tbody tr th {\n",
       "        vertical-align: top;\n",
       "    }\n",
       "\n",
       "    .dataframe thead th {\n",
       "        text-align: right;\n",
       "    }\n",
       "</style>\n",
       "<table border=\"1\" class=\"dataframe\">\n",
       "  <thead>\n",
       "    <tr style=\"text-align: right;\">\n",
       "      <th></th>\n",
       "      <th>Value</th>\n",
       "    </tr>\n",
       "    <tr>\n",
       "      <th>Date</th>\n",
       "      <th></th>\n",
       "    </tr>\n",
       "  </thead>\n",
       "  <tbody>\n",
       "    <tr>\n",
       "      <th>2009-01-02</th>\n",
       "      <td>13.67</td>\n",
       "    </tr>\n",
       "    <tr>\n",
       "      <th>2009-01-05</th>\n",
       "      <td>13.66</td>\n",
       "    </tr>\n",
       "    <tr>\n",
       "      <th>2009-01-06</th>\n",
       "      <td>13.66</td>\n",
       "    </tr>\n",
       "    <tr>\n",
       "      <th>2009-01-07</th>\n",
       "      <td>13.66</td>\n",
       "    </tr>\n",
       "    <tr>\n",
       "      <th>2009-01-08</th>\n",
       "      <td>13.66</td>\n",
       "    </tr>\n",
       "  </tbody>\n",
       "</table>\n",
       "</div>"
      ],
      "text/plain": [
       "            Value\n",
       "Date             \n",
       "2009-01-02  13.67\n",
       "2009-01-05  13.66\n",
       "2009-01-06  13.66\n",
       "2009-01-07  13.66\n",
       "2009-01-08  13.66"
      ]
     },
     "execution_count": 65,
     "metadata": {},
     "output_type": "execute_result"
    }
   ],
   "source": [
    "selic=quandl.get(\"BCB/1178\", authtoken=\"wHnVchHSPwZYMsXTPAUm\", start_date=\"2009-01-02\")\n",
    "selic.head()"
   ]
  },
  {
   "cell_type": "code",
   "execution_count": 66,
   "metadata": {},
   "outputs": [],
   "source": [
    "ibov_selic= pd.merge(selic,IBOV,on=\"Date\")"
   ]
  },
  {
   "cell_type": "code",
   "execution_count": 67,
   "metadata": {},
   "outputs": [
    {
     "data": {
      "text/html": [
       "<div>\n",
       "<style scoped>\n",
       "    .dataframe tbody tr th:only-of-type {\n",
       "        vertical-align: middle;\n",
       "    }\n",
       "\n",
       "    .dataframe tbody tr th {\n",
       "        vertical-align: top;\n",
       "    }\n",
       "\n",
       "    .dataframe thead th {\n",
       "        text-align: right;\n",
       "    }\n",
       "</style>\n",
       "<table border=\"1\" class=\"dataframe\">\n",
       "  <thead>\n",
       "    <tr style=\"text-align: right;\">\n",
       "      <th></th>\n",
       "      <th>Value</th>\n",
       "      <th>High</th>\n",
       "      <th>Low</th>\n",
       "      <th>Open</th>\n",
       "      <th>Close</th>\n",
       "      <th>Volume</th>\n",
       "      <th>Adj Close</th>\n",
       "      <th>data</th>\n",
       "    </tr>\n",
       "    <tr>\n",
       "      <th>Date</th>\n",
       "      <th></th>\n",
       "      <th></th>\n",
       "      <th></th>\n",
       "      <th></th>\n",
       "      <th></th>\n",
       "      <th></th>\n",
       "      <th></th>\n",
       "      <th></th>\n",
       "    </tr>\n",
       "  </thead>\n",
       "  <tbody>\n",
       "    <tr>\n",
       "      <th>2009-01-02</th>\n",
       "      <td>13.67</td>\n",
       "      <td>40265.0</td>\n",
       "      <td>37550.0</td>\n",
       "      <td>37550.0</td>\n",
       "      <td>40244.0</td>\n",
       "      <td>1055200.0</td>\n",
       "      <td>40244.0</td>\n",
       "      <td>02/01/2009</td>\n",
       "    </tr>\n",
       "    <tr>\n",
       "      <th>2009-01-05</th>\n",
       "      <td>13.66</td>\n",
       "      <td>41889.0</td>\n",
       "      <td>39526.0</td>\n",
       "      <td>40243.0</td>\n",
       "      <td>41519.0</td>\n",
       "      <td>1909200.0</td>\n",
       "      <td>41519.0</td>\n",
       "      <td>05/01/2009</td>\n",
       "    </tr>\n",
       "    <tr>\n",
       "      <th>2009-01-06</th>\n",
       "      <td>13.66</td>\n",
       "      <td>42363.0</td>\n",
       "      <td>41520.0</td>\n",
       "      <td>41520.0</td>\n",
       "      <td>42312.0</td>\n",
       "      <td>1791000.0</td>\n",
       "      <td>42312.0</td>\n",
       "      <td>06/01/2009</td>\n",
       "    </tr>\n",
       "    <tr>\n",
       "      <th>2009-01-07</th>\n",
       "      <td>13.66</td>\n",
       "      <td>42308.0</td>\n",
       "      <td>40563.0</td>\n",
       "      <td>42308.0</td>\n",
       "      <td>40820.0</td>\n",
       "      <td>1383600.0</td>\n",
       "      <td>40820.0</td>\n",
       "      <td>07/01/2009</td>\n",
       "    </tr>\n",
       "    <tr>\n",
       "      <th>2009-01-08</th>\n",
       "      <td>13.66</td>\n",
       "      <td>41991.0</td>\n",
       "      <td>40251.0</td>\n",
       "      <td>40819.0</td>\n",
       "      <td>41991.0</td>\n",
       "      <td>1556000.0</td>\n",
       "      <td>41991.0</td>\n",
       "      <td>08/01/2009</td>\n",
       "    </tr>\n",
       "  </tbody>\n",
       "</table>\n",
       "</div>"
      ],
      "text/plain": [
       "            Value     High      Low     Open    Close     Volume  Adj Close  \\\n",
       "Date                                                                          \n",
       "2009-01-02  13.67  40265.0  37550.0  37550.0  40244.0  1055200.0    40244.0   \n",
       "2009-01-05  13.66  41889.0  39526.0  40243.0  41519.0  1909200.0    41519.0   \n",
       "2009-01-06  13.66  42363.0  41520.0  41520.0  42312.0  1791000.0    42312.0   \n",
       "2009-01-07  13.66  42308.0  40563.0  42308.0  40820.0  1383600.0    40820.0   \n",
       "2009-01-08  13.66  41991.0  40251.0  40819.0  41991.0  1556000.0    41991.0   \n",
       "\n",
       "                  data  \n",
       "Date                    \n",
       "2009-01-02  02/01/2009  \n",
       "2009-01-05  05/01/2009  \n",
       "2009-01-06  06/01/2009  \n",
       "2009-01-07  07/01/2009  \n",
       "2009-01-08  08/01/2009  "
      ]
     },
     "execution_count": 67,
     "metadata": {},
     "output_type": "execute_result"
    }
   ],
   "source": [
    "ibov_selic.head()"
   ]
  },
  {
   "cell_type": "code",
   "execution_count": 69,
   "metadata": {},
   "outputs": [
    {
     "data": {
      "image/png": "[encoded data removed]",
      "text/plain": [
       "<Figure size 432x288 with 2 Axes>"
      ]
     },
     "metadata": {
      "needs_background": "light"
     },
     "output_type": "display_data"
    }
   ],
   "source": [
    "fig, ax1 = plt.subplots()\n",
    "t =  np.arange(0.0, 2.0, 0.01)\n",
    "x=ibov_selic['data']\n",
    "s1 = np.exp(t)\n",
    "ax1.plot(x,ibov_selic['Value'])\n",
    "ax1.set_xlabel('Data')\n",
    "# Make the y-axis label, ticks and tick labels match the line color.\n",
    "ax1.set_ylabel('Selic', color='b')\n",
    "ax1.tick_params('y', colors='b')\n",
    "\n",
    "ax2 = ax1.twinx()\n",
    "s2 = ibov_selic['Adj Close']\n",
    "ax2.plot(x,s2,color='r')\n",
    "ax2.set_ylabel('Ibovespa', color='r')\n",
    "ax2.tick_params('y', colors='r')\n",
    "\n",
    "fig.tight_layout()\n",
    "plt.show()"
   ]
  },
  {
   "cell_type": "code",
   "execution_count": null,
   "metadata": {},
   "outputs": [],
   "source": []
  }
 ],
 "metadata": {
  "kernelspec": {
   "display_name": "Python 3",
   "language": "python",
   "name": "python3"
  },
  "language_info": {
   "codemirror_mode": {
    "name": "ipython",
    "version": 3
   },
   "file_extension": ".py",
   "mimetype": "text/x-python",
   "name": "python",
   "nbconvert_exporter": "python",
   "pygments_lexer": "ipython3",
   "version": "3.7.1"
  }
 },
 "nbformat": 4,
 "nbformat_minor": 2
}
